{
  "nbformat": 4,
  "nbformat_minor": 0,
  "metadata": {
    "colab": {
      "name": "Analytical Hierarchy Process",
      "provenance": []
    },
    "kernelspec": {
      "name": "python3",
      "display_name": "Python 3"
    },
    "language_info": {
      "name": "python"
    }
  },
  "cells": [
    {
      "cell_type": "code",
      "metadata": {
        "id": "Ze7ikhi3_N-s"
      },
      "source": [
        "import numpy as np"
      ],
      "execution_count": null,
      "outputs": []
    },
    {
      "cell_type": "code",
      "metadata": {
        "colab": {
          "base_uri": "https://localhost:8080/"
        },
        "id": "IVm3YUlr_bP2",
        "outputId": "2b6a7a27-4835-4002-e4a6-8e77bb7a1493"
      },
      "source": [
        "35n = 5\n",
        "A = np.ones([n,n])\n",
        "\n",
        "for i in range(0,n):\n",
        "    for j in range(0,n):\n",
        "         if i<j:\n",
        "             aij = input('Seberapa penting pilihan {} dibandingkan {} ?: '.format(i,j))\n",
        "             A[i,j] = float(aij)\n",
        "             A[j,i] = 1/float(aij)\n",
        "             if A[j,i] < 1 :\n",
        "              A[j,i] = round(1/float(aij), 2)\n",
        "             else : \n",
        "              A[j,i] = round(1/float(aij))\n",
        "            "
      ],
      "execution_count": null,
      "outputs": [
        {
          "name": "stdout",
          "output_type": "stream",
          "text": [
            "Seberapa penting pilihan 0 dibandingkan 1 ?: 1\n",
            "Seberapa penting pilihan 0 dibandingkan 2 ?: 2\n",
            "Seberapa penting pilihan 0 dibandingkan 3 ?: 3\n",
            "Seberapa penting pilihan 0 dibandingkan 4 ?: 4\n",
            "Seberapa penting pilihan 1 dibandingkan 2 ?: 5\n",
            "Seberapa penting pilihan 1 dibandingkan 3 ?: 6\n",
            "Seberapa penting pilihan 1 dibandingkan 4 ?: 1\n",
            "Seberapa penting pilihan 2 dibandingkan 3 ?: 2\n",
            "Seberapa penting pilihan 2 dibandingkan 4 ?: 3\n",
            "Seberapa penting pilihan 3 dibandingkan 4 ?: 4\n"
          ]
        }
      ]
    },
    {
      "cell_type": "code",
      "metadata": {
        "colab": {
          "base_uri": "https://localhost:8080/"
        },
        "id": "X0AUSQGTMxwL",
        "outputId": "80698875-5a95-4484-8df4-ce73c057e450"
      },
      "source": [
        "print(A)"
      ],
      "execution_count": null,
      "outputs": [
        {
          "output_type": "stream",
          "name": "stdout",
          "text": [
            "[[1.   1.   2.   3.   4.  ]\n",
            " [1.   1.   5.   6.   1.  ]\n",
            " [0.5  0.2  1.   2.   3.  ]\n",
            " [0.33 0.17 0.5  1.   4.  ]\n",
            " [0.25 1.   0.33 0.25 1.  ]]\n"
          ]
        }
      ]
    },
    {
      "cell_type": "code",
      "metadata": {
        "colab": {
          "base_uri": "https://localhost:8080/"
        },
        "id": "EOD9tBUP_zUq",
        "outputId": "15e34a71-843f-4311-96cc-47d5226738f1"
      },
      "source": [
        "e = np.linalg.eig(A)[1][:,0]\n",
        "p = e/e.sum()\n",
        "p"
      ],
      "execution_count": null,
      "outputs": [
        {
          "output_type": "execute_result",
          "data": {
            "text/plain": [
              "array([0.27550059-0.j, 0.35821172-0.j, 0.14624656-0.j, 0.12121707-0.j,\n",
              "       0.09882406-0.j])"
            ]
          },
          "metadata": {},
          "execution_count": 13
        }
      ]
    },
    {
      "cell_type": "code",
      "metadata": {
        "id": "Q8QNy12HAtJ2"
      },
      "source": [
        "def pairwise_matrix(n):\n",
        "    A = np.ones([n,n])\n",
        "    for i in range(0,n):\n",
        "        for j in range(0,n):\n",
        "            if i<j:\n",
        "                aij = input('Seberapa penting pilihan {} dibandingkan {} ?: '.format(i,j))\n",
        "                A[i,j] = float(aij)\n",
        "                A[j,i] = 1/float(aij)\n",
        "                if A[j,i] < 1 :\n",
        "                  A[j,i] = round(1/float(aij), 2)\n",
        "                else : \n",
        "                  A[j,i] = round(1/float(aij))\n",
        "    print(A)\n",
        "    \n",
        "    eig_val = np.linalg.eig(A)[0]\n",
        "    eig_vec = np.linalg.eig(A)[1][:,0]\n",
        "    p = eig_vec/eig_vec.sum()\n",
        "    return p, eig_val\n"
      ],
      "execution_count": null,
      "outputs": []
    },
    {
      "cell_type": "code",
      "metadata": {
        "colab": {
          "base_uri": "https://localhost:8080/"
        },
        "id": "aoaw-72DCKe2",
        "outputId": "12b9f636-e089-4118-f137-05b7c11b9eac"
      },
      "source": [
        "pr_kriteria, eig = pairwise_matrix(5)"
      ],
      "execution_count": null,
      "outputs": [
        {
          "name": "stdout",
          "output_type": "stream",
          "text": [
            "Seberapa penting pilihan 0 dibandingkan 1 ?: 5\n",
            "Seberapa penting pilihan 0 dibandingkan 2 ?: 3\n",
            "Seberapa penting pilihan 0 dibandingkan 3 ?: 4\n",
            "Seberapa penting pilihan 0 dibandingkan 4 ?: 7\n",
            "Seberapa penting pilihan 1 dibandingkan 2 ?: 0.2\n",
            "Seberapa penting pilihan 1 dibandingkan 3 ?: 7\n",
            "Seberapa penting pilihan 1 dibandingkan 4 ?: 5\n",
            "Seberapa penting pilihan 2 dibandingkan 3 ?: 0.14\n",
            "Seberapa penting pilihan 2 dibandingkan 4 ?: 5\n",
            "Seberapa penting pilihan 3 dibandingkan 4 ?: 0.33\n"
          ]
        }
      ]
    },
    {
      "cell_type": "code",
      "metadata": {
        "colab": {
          "base_uri": "https://localhost:8080/"
        },
        "id": "zN2UMqPMOcn7",
        "outputId": "20905149-e3c9-4ef7-87da-328a8a59dd7d"
      },
      "source": [
        "print(A)"
      ],
      "execution_count": null,
      "outputs": [
        {
          "output_type": "stream",
          "name": "stdout",
          "text": [
            "[[1.   5.   3.   4.   7.  ]\n",
            " [0.2  1.   0.2  7.   5.  ]\n",
            " [0.33 5.   1.   0.14 5.  ]\n",
            " [0.25 0.14 7.   1.   0.33]\n",
            " [0.14 0.2  0.2  3.   1.  ]]\n"
          ]
        }
      ]
    },
    {
      "cell_type": "code",
      "metadata": {
        "colab": {
          "base_uri": "https://localhost:8080/"
        },
        "id": "BfcUGln0CLW-",
        "outputId": "4055da45-0722-4d43-9b0e-b42baa0a1982"
      },
      "source": [
        "pr_K1, eig0 = pairwise_matrix(5)"
      ],
      "execution_count": null,
      "outputs": [
        {
          "name": "stdout",
          "output_type": "stream",
          "text": [
            "Seberapa penting pilihan 0 dibandingkan 1 ?: 0.1\n",
            "Seberapa penting pilihan 0 dibandingkan 2 ?: 0.33\n",
            "Seberapa penting pilihan 0 dibandingkan 3 ?: 2\n",
            "Seberapa penting pilihan 0 dibandingkan 4 ?: 4\n",
            "Seberapa penting pilihan 1 dibandingkan 2 ?: 5\n",
            "Seberapa penting pilihan 1 dibandingkan 3 ?: 7\n",
            "Seberapa penting pilihan 1 dibandingkan 4 ?: 7\n",
            "Seberapa penting pilihan 2 dibandingkan 3 ?: 3\n",
            "Seberapa penting pilihan 2 dibandingkan 4 ?: 5\n",
            "Seberapa penting pilihan 3 dibandingkan 4 ?: 0.33\n"
          ]
        }
      ]
    },
    {
      "cell_type": "code",
      "metadata": {
        "colab": {
          "base_uri": "https://localhost:8080/"
        },
        "id": "Hz0MKLRZCxqF",
        "outputId": "4f85d61b-5018-40c1-a71d-9d5e21ecd712"
      },
      "source": [
        "pr_K2, eig1 = pairwise_matrix(5)"
      ],
      "execution_count": null,
      "outputs": [
        {
          "name": "stdout",
          "output_type": "stream",
          "text": [
            "Seberapa penting pilihan 0 dibandingkan 1 ?: 5\n",
            "Seberapa penting pilihan 0 dibandingkan 2 ?: 0.2\n",
            "Seberapa penting pilihan 0 dibandingkan 3 ?: 3\n",
            "Seberapa penting pilihan 0 dibandingkan 4 ?: 5\n",
            "Seberapa penting pilihan 1 dibandingkan 2 ?: 7\n",
            "Seberapa penting pilihan 1 dibandingkan 3 ?: 0.2\n",
            "Seberapa penting pilihan 1 dibandingkan 4 ?: 0.5\n",
            "Seberapa penting pilihan 2 dibandingkan 3 ?: 5\n",
            "Seberapa penting pilihan 2 dibandingkan 4 ?: 7\n",
            "Seberapa penting pilihan 3 dibandingkan 4 ?: 3\n"
          ]
        }
      ]
    },
    {
      "cell_type": "code",
      "metadata": {
        "colab": {
          "base_uri": "https://localhost:8080/"
        },
        "id": "N3Y5azHJDE2O",
        "outputId": "399e35ba-ee5a-4367-cf06-182882fe3270"
      },
      "source": [
        "pr_K3, eig2 = pairwise_matrix(5)"
      ],
      "execution_count": null,
      "outputs": [
        {
          "name": "stdout",
          "output_type": "stream",
          "text": [
            "Seberapa penting pilihan 0 dibandingkan 1 ?: 0.2\n",
            "Seberapa penting pilihan 0 dibandingkan 2 ?: 0.1\n",
            "Seberapa penting pilihan 0 dibandingkan 3 ?: 3\n",
            "Seberapa penting pilihan 0 dibandingkan 4 ?: 5\n",
            "Seberapa penting pilihan 1 dibandingkan 2 ?: 0.14\n",
            "Seberapa penting pilihan 1 dibandingkan 3 ?: 5\n",
            "Seberapa penting pilihan 1 dibandingkan 4 ?: 3\n",
            "Seberapa penting pilihan 2 dibandingkan 3 ?: 7\n",
            "Seberapa penting pilihan 2 dibandingkan 4 ?: 9\n",
            "Seberapa penting pilihan 3 dibandingkan 4 ?: 3\n"
          ]
        }
      ]
    },
    {
      "cell_type": "code",
      "metadata": {
        "colab": {
          "base_uri": "https://localhost:8080/"
        },
        "id": "iLUVtvfLDRgs",
        "outputId": "4210e87c-b39f-4ac8-df26-2ce1a579464c"
      },
      "source": [
        "pr_K4, eig3 = pairwise_matrix(5)"
      ],
      "execution_count": null,
      "outputs": [
        {
          "name": "stdout",
          "output_type": "stream",
          "text": [
            "Seberapa penting pilihan 0 dibandingkan 1 ?: 3\n",
            "Seberapa penting pilihan 0 dibandingkan 2 ?: 0.2\n",
            "Seberapa penting pilihan 0 dibandingkan 3 ?: 3\n",
            "Seberapa penting pilihan 0 dibandingkan 4 ?: 7\n",
            "Seberapa penting pilihan 1 dibandingkan 2 ?: 0.33\n",
            "Seberapa penting pilihan 1 dibandingkan 3 ?: 5\n",
            "Seberapa penting pilihan 1 dibandingkan 4 ?: 3\n",
            "Seberapa penting pilihan 2 dibandingkan 3 ?: 9\n",
            "Seberapa penting pilihan 2 dibandingkan 4 ?: 5\n",
            "Seberapa penting pilihan 3 dibandingkan 4 ?: 0.2\n"
          ]
        }
      ]
    },
    {
      "cell_type": "code",
      "metadata": {
        "colab": {
          "base_uri": "https://localhost:8080/"
        },
        "id": "pAD2GqshDXkU",
        "outputId": "4acc6896-d821-4f66-c1d4-8e1f327cff91"
      },
      "source": [
        "pr_K5, eig4 = pairwise_matrix(5)"
      ],
      "execution_count": null,
      "outputs": [
        {
          "name": "stdout",
          "output_type": "stream",
          "text": [
            "Seberapa penting pilihan 0 dibandingkan 1 ?: 0.33\n",
            "Seberapa penting pilihan 0 dibandingkan 2 ?: 3\n",
            "Seberapa penting pilihan 0 dibandingkan 3 ?: 3\n",
            "Seberapa penting pilihan 0 dibandingkan 4 ?: 0.14\n",
            "Seberapa penting pilihan 1 dibandingkan 2 ?: 5\n",
            "Seberapa penting pilihan 1 dibandingkan 3 ?: 3\n",
            "Seberapa penting pilihan 1 dibandingkan 4 ?: 0.25\n",
            "Seberapa penting pilihan 2 dibandingkan 3 ?: 0.5\n",
            "Seberapa penting pilihan 2 dibandingkan 4 ?: 0.14\n",
            "Seberapa penting pilihan 3 dibandingkan 4 ?: 0.5\n"
          ]
        }
      ]
    },
    {
      "cell_type": "code",
      "metadata": {
        "id": "ey6p8XhjE-Kp"
      },
      "source": [
        "composite_weight = pr_K1*pr_kriteria[0] + pr_K2*pr_kriteria[1] + pr_K3*pr_kriteria[2] + pr_K4*pr_kriteria[3] + pr_K5*pr_kriteria[4]"
      ],
      "execution_count": null,
      "outputs": []
    },
    {
      "cell_type": "code",
      "metadata": {
        "colab": {
          "base_uri": "https://localhost:8080/"
        },
        "id": "BF7Vlih5FHrv",
        "outputId": "d9300041-e7f5-46a0-9027-5425aba9b428"
      },
      "source": [
        "print(composite_weight)"
      ],
      "execution_count": null,
      "outputs": [
        {
          "output_type": "stream",
          "name": "stdout",
          "text": [
            "[0.15553554+0.j 0.33503973+0.j 0.33590582+0.j 0.07716982+0.j\n",
            " 0.09634909+0.j]\n"
          ]
        }
      ]
    },
    {
      "cell_type": "code",
      "source": [
        ""
      ],
      "metadata": {
        "id": "Ptb5TFkWDU-T"
      },
      "execution_count": null,
      "outputs": []
    }
  ]
}