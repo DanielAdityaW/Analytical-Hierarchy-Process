{
  "nbformat": 4,
  "nbformat_minor": 0,
  "metadata": {
    "colab": {
      "name": "AHPy Implementation v2 - Analytical Hierarchy Process.ipynb",
      "provenance": []
    },
    "kernelspec": {
      "name": "python3",
      "display_name": "Python 3"
    },
    "language_info": {
      "name": "python"
    }
  },
  "cells": [
    {
      "cell_type": "code",
      "metadata": {
        "colab": {
          "base_uri": "https://localhost:8080/"
        },
        "id": "KREVnr-Ex4nw",
        "outputId": "cfecd43f-acf9-4ab1-e700-ebbb6a458519"
      },
      "source": [
        "!pip install ahpy\n",
        "import ahpy as ahpy"
      ],
      "execution_count": null,
      "outputs": [
        {
          "output_type": "stream",
          "name": "stdout",
          "text": [
            "Collecting ahpy\n",
            "  Downloading ahpy-2.0-py3-none-any.whl (21 kB)\n",
            "Requirement already satisfied: numpy in /usr/local/lib/python3.7/dist-packages (from ahpy) (1.19.5)\n",
            "Requirement already satisfied: scipy in /usr/local/lib/python3.7/dist-packages (from ahpy) (1.4.1)\n",
            "Installing collected packages: ahpy\n",
            "Successfully installed ahpy-2.0\n"
          ]
        }
      ]
    },
    {
      "cell_type": "code",
      "metadata": {
        "id": "klTHgL5Dx6hW"
      },
      "source": [
        "perbandingan_kriteria = {('K1','K2'):5,('K1','K3'):3,('K1','K4'):4,('K1','K5'):7,\n",
        "                         ('K2','K3'):1/5,('K2','K4'):7,('K2','K5'):5,\n",
        "                         ('K3','K4'):1/7,('K3','K5'):5,\n",
        "                         ('K4','K5'):1/3}\n",
        "          "
      ],
      "execution_count": null,
      "outputs": []
    },
    {
      "cell_type": "code",
      "metadata": {
        "colab": {
          "base_uri": "https://localhost:8080/"
        },
        "id": "lnw0nPtkzY6P",
        "outputId": "b39bdd05-706d-4400-a633-2df95b6f6a14"
      },
      "source": [
        "Kriteria = ahpy.Compare('kriteria', perbandingan_kriteria, precision=3)\n",
        "report = Kriteria.report(show=True)"
      ],
      "execution_count": null,
      "outputs": [
        {
          "output_type": "stream",
          "name": "stdout",
          "text": [
            "{\n",
            "    \"name\": \"kriteria\",\n",
            "    \"global_weight\": 1.0,\n",
            "    \"local_weight\": 1.0,\n",
            "    \"target_weights\": {\n",
            "        \"K1\": 0.345,\n",
            "        \"K2\": 0.209,\n",
            "        \"K3\": 0.19,\n",
            "        \"K4\": 0.177,\n",
            "        \"K5\": 0.079\n",
            "    },\n",
            "    \"elements\": {\n",
            "        \"global_weights\": {\n",
            "            \"K1\": 0.345,\n",
            "            \"K2\": 0.209,\n",
            "            \"K3\": 0.19,\n",
            "            \"K4\": 0.177,\n",
            "            \"K5\": 0.079\n",
            "        },\n",
            "        \"local_weights\": {\n",
            "            \"K1\": 0.345,\n",
            "            \"K2\": 0.209,\n",
            "            \"K3\": 0.19,\n",
            "            \"K4\": 0.177,\n",
            "            \"K5\": 0.079\n",
            "        },\n",
            "        \"consistency_ratio\": 1.021\n",
            "    }\n",
            "}\n"
          ]
        }
      ]
    },
    {
      "cell_type": "code",
      "metadata": {
        "colab": {
          "base_uri": "https://localhost:8080/"
        },
        "id": "BAkONXeeyF_W",
        "outputId": "bd93d1a6-b627-4b9c-a653-a511fbbc5533"
      },
      "source": [
        "import itertools\n",
        "alternative = ('Daniel','Iqsyal','Bahar','Raihan','Kelvin')\n",
        "pasangan_alternative = list(itertools.combinations(alternative, 2))\n",
        "print(pasangan_alternative)"
      ],
      "execution_count": null,
      "outputs": [
        {
          "output_type": "stream",
          "name": "stdout",
          "text": [
            "[('Daniel', 'Iqsyal'), ('Daniel', 'Bahar'), ('Daniel', 'Raihan'), ('Daniel', 'Kelvin'), ('Iqsyal', 'Bahar'), ('Iqsyal', 'Raihan'), ('Iqsyal', 'Kelvin'), ('Bahar', 'Raihan'), ('Bahar', 'Kelvin'), ('Raihan', 'Kelvin')]\n"
          ]
        }
      ]
    },
    {
      "cell_type": "code",
      "metadata": {
        "colab": {
          "base_uri": "https://localhost:8080/"
        },
        "id": "QlrCaXJ4yeZe",
        "outputId": "49c06980-c721-41e4-9fdc-9f957b87a2dd"
      },
      "source": [
        "nilai_k1 = (1/9,1/3,2,4,5,7,7,3,5,1/3)\n",
        "perbandingan_k1 = dict(zip(pasangan_alternative, nilai_k1))\n",
        "print(perbandingan_k1)"
      ],
      "execution_count": null,
      "outputs": [
        {
          "output_type": "stream",
          "name": "stdout",
          "text": [
            "{('Daniel', 'Iqsyal'): 0.1111111111111111, ('Daniel', 'Bahar'): 0.3333333333333333, ('Daniel', 'Raihan'): 2, ('Daniel', 'Kelvin'): 4, ('Iqsyal', 'Bahar'): 5, ('Iqsyal', 'Raihan'): 7, ('Iqsyal', 'Kelvin'): 7, ('Bahar', 'Raihan'): 3, ('Bahar', 'Kelvin'): 5, ('Raihan', 'Kelvin'): 0.3333333333333333}\n"
          ]
        }
      ]
    },
    {
      "cell_type": "code",
      "metadata": {
        "colab": {
          "base_uri": "https://localhost:8080/"
        },
        "id": "-U7JHW5TzLYv",
        "outputId": "89eb4ddc-bf69-4564-d3b8-381a852ec742"
      },
      "source": [
        "nilai_k2 = (5,1/5,3,5,7,1/5,1/2,5,7,3)\n",
        "perbandingan_k2 = dict(zip(pasangan_alternative, nilai_k2))\n",
        "print(perbandingan_k2)"
      ],
      "execution_count": null,
      "outputs": [
        {
          "output_type": "stream",
          "name": "stdout",
          "text": [
            "{('Daniel', 'Iqsyal'): 5, ('Daniel', 'Bahar'): 0.2, ('Daniel', 'Raihan'): 3, ('Daniel', 'Kelvin'): 5, ('Iqsyal', 'Bahar'): 7, ('Iqsyal', 'Raihan'): 0.2, ('Iqsyal', 'Kelvin'): 0.5, ('Bahar', 'Raihan'): 5, ('Bahar', 'Kelvin'): 7, ('Raihan', 'Kelvin'): 3}\n"
          ]
        }
      ]
    },
    {
      "cell_type": "code",
      "metadata": {
        "colab": {
          "base_uri": "https://localhost:8080/"
        },
        "id": "BPpcKGkd1Ozf",
        "outputId": "4d78a7df-8868-4ca2-c8e1-6422dce2af68"
      },
      "source": [
        "nilai_k3 = (1/5,1/9,3,5,1/7,5,3,7,9,3)\n",
        "perbandingan_k3 = dict(zip(pasangan_alternative, nilai_k3))\n",
        "print(perbandingan_k3)"
      ],
      "execution_count": null,
      "outputs": [
        {
          "output_type": "stream",
          "name": "stdout",
          "text": [
            "{('Daniel', 'Iqsyal'): 0.2, ('Daniel', 'Bahar'): 0.1111111111111111, ('Daniel', 'Raihan'): 3, ('Daniel', 'Kelvin'): 5, ('Iqsyal', 'Bahar'): 0.14285714285714285, ('Iqsyal', 'Raihan'): 5, ('Iqsyal', 'Kelvin'): 3, ('Bahar', 'Raihan'): 7, ('Bahar', 'Kelvin'): 9, ('Raihan', 'Kelvin'): 3}\n"
          ]
        }
      ]
    },
    {
      "cell_type": "code",
      "metadata": {
        "colab": {
          "base_uri": "https://localhost:8080/"
        },
        "id": "cFiUdkgF1Owd",
        "outputId": "3fdb46b2-ac0c-485f-ec9b-e0bef95040f6"
      },
      "source": [
        "nilai_k4 = (3,1/5,3,7,1/3,5,3,9,5,1/5)\n",
        "perbandingan_k4 = dict(zip(pasangan_alternative, nilai_k4))\n",
        "print(perbandingan_k4)"
      ],
      "execution_count": null,
      "outputs": [
        {
          "output_type": "stream",
          "name": "stdout",
          "text": [
            "{('Daniel', 'Iqsyal'): 3, ('Daniel', 'Bahar'): 0.2, ('Daniel', 'Raihan'): 3, ('Daniel', 'Kelvin'): 7, ('Iqsyal', 'Bahar'): 0.3333333333333333, ('Iqsyal', 'Raihan'): 5, ('Iqsyal', 'Kelvin'): 3, ('Bahar', 'Raihan'): 9, ('Bahar', 'Kelvin'): 5, ('Raihan', 'Kelvin'): 0.2}\n"
          ]
        }
      ]
    },
    {
      "cell_type": "code",
      "metadata": {
        "colab": {
          "base_uri": "https://localhost:8080/"
        },
        "id": "uDD4tY5N2YOm",
        "outputId": "9d12a3ca-dc7b-4c2f-d1a3-16f6452936b3"
      },
      "source": [
        "nilai_k5 = (1/3,3,3,1/7,5,3,1/4,1/2,1/7,1/2)\n",
        "perbandingan_k5 = dict(zip(pasangan_alternative, nilai_k5))\n",
        "print(perbandingan_k5)"
      ],
      "execution_count": null,
      "outputs": [
        {
          "output_type": "stream",
          "name": "stdout",
          "text": [
            "{('Daniel', 'Iqsyal'): 0.3333333333333333, ('Daniel', 'Bahar'): 3, ('Daniel', 'Raihan'): 3, ('Daniel', 'Kelvin'): 0.14285714285714285, ('Iqsyal', 'Bahar'): 5, ('Iqsyal', 'Raihan'): 3, ('Iqsyal', 'Kelvin'): 0.25, ('Bahar', 'Raihan'): 0.5, ('Bahar', 'Kelvin'): 0.14285714285714285, ('Raihan', 'Kelvin'): 0.5}\n"
          ]
        }
      ]
    },
    {
      "cell_type": "code",
      "metadata": {
        "id": "VQjg_ZgO2nms"
      },
      "source": [
        "Bagian_terdapak = ahpy.Compare('bagian_terdapak', perbandingan_k1, precision=3)\n",
        "Anggota_keluarga = ahpy.Compare('anggota_keluarga', perbandingan_k2, precision=3)\n",
        "Domisili = ahpy.Compare('domisili', perbandingan_k3, precision=3)\n",
        "Status_rumah = ahpy.Compare('status_rumah', perbandingan_k4, precision=3)\n",
        "Pendapatan = ahpy.Compare('pendapatan', perbandingan_k5, precision=3)"
      ],
      "execution_count": null,
      "outputs": []
    },
    {
      "cell_type": "code",
      "metadata": {
        "colab": {
          "base_uri": "https://localhost:8080/"
        },
        "id": "eQxs2OGQ3ht8",
        "outputId": "c0894974-4ae4-4a03-a7b7-ac6487dddcd2"
      },
      "source": [
        "Kriteria.add_children([Bagian_terdapak,\n",
        "                       Anggota_keluarga,\n",
        "                       Domisili,\n",
        "                       Status_rumah,\n",
        "                       Pendapatan])\n",
        "\n",
        "print(Kriteria.target_weights)"
      ],
      "execution_count": null,
      "outputs": [
        {
          "output_type": "stream",
          "name": "stdout",
          "text": [
            "{}\n"
          ]
        }
      ]
    },
    {
      "cell_type": "code",
      "metadata": {
        "colab": {
          "base_uri": "https://localhost:8080/"
        },
        "id": "B7JOI_c73jFE",
        "outputId": "d90cc7bd-ab29-43ed-af0a-5bf567494210"
      },
      "source": [
        "report = Kriteria.report(show=True, verbose=True)"
      ],
      "execution_count": null,
      "outputs": [
        {
          "output_type": "stream",
          "name": "stdout",
          "text": [
            "{\n",
            "    \"name\": \"kriteria\",\n",
            "    \"global_weight\": 1.0,\n",
            "    \"local_weight\": 1.0,\n",
            "    \"target_weights\": {},\n",
            "    \"elements\": {\n",
            "        \"global_weights\": {\n",
            "            \"K1\": 0.345,\n",
            "            \"K2\": 0.209,\n",
            "            \"K3\": 0.19,\n",
            "            \"K4\": 0.177,\n",
            "            \"K5\": 0.079\n",
            "        },\n",
            "        \"local_weights\": {\n",
            "            \"K1\": 0.345,\n",
            "            \"K2\": 0.209,\n",
            "            \"K3\": 0.19,\n",
            "            \"K4\": 0.177,\n",
            "            \"K5\": 0.079\n",
            "        },\n",
            "        \"consistency_ratio\": 1.021,\n",
            "        \"random_index\": \"Donegan & Dodd\",\n",
            "        \"count\": 5,\n",
            "        \"names\": [\n",
            "            \"K1\",\n",
            "            \"K2\",\n",
            "            \"K3\",\n",
            "            \"K4\",\n",
            "            \"K5\"\n",
            "        ]\n",
            "    },\n",
            "    \"children\": {\n",
            "        \"count\": 5,\n",
            "        \"names\": [\n",
            "            \"bagian_terdapak\",\n",
            "            \"anggota_keluarga\",\n",
            "            \"domisili\",\n",
            "            \"status_rumah\",\n",
            "            \"pendapatan\"\n",
            "        ]\n",
            "    },\n",
            "    \"comparisons\": {\n",
            "        \"count\": 10,\n",
            "        \"input\": {\n",
            "            \"K1, K2\": 5,\n",
            "            \"K1, K3\": 3,\n",
            "            \"K1, K4\": 4,\n",
            "            \"K1, K5\": 7,\n",
            "            \"K2, K3\": 0.2,\n",
            "            \"K2, K4\": 7,\n",
            "            \"K2, K5\": 5,\n",
            "            \"K3, K4\": 0.14285714285714285,\n",
            "            \"K3, K5\": 5,\n",
            "            \"K4, K5\": 0.3333333333333333\n",
            "        },\n",
            "        \"computed\": null\n",
            "    }\n",
            "}\n"
          ]
        }
      ]
    },
    {
      "cell_type": "code",
      "metadata": {
        "colab": {
          "base_uri": "https://localhost:8080/"
        },
        "id": "lHref0uw4DeV",
        "outputId": "d6371248-7dbc-4cf2-f23f-2122b76f0f19"
      },
      "source": [
        "report = Bagian_terdapak.report(show=True, verbose=True)"
      ],
      "execution_count": null,
      "outputs": [
        {
          "output_type": "stream",
          "name": "stdout",
          "text": [
            "{\n",
            "    \"name\": \"bagian_terdapak\",\n",
            "    \"global_weight\": 1.0,\n",
            "    \"local_weight\": 1.0,\n",
            "    \"target_weights\": {\n",
            "        \"Iqsyal\": 0.588,\n",
            "        \"Bahar\": 0.195,\n",
            "        \"Daniel\": 0.105,\n",
            "        \"Kelvin\": 0.064,\n",
            "        \"Raihan\": 0.048\n",
            "    },\n",
            "    \"elements\": {\n",
            "        \"global_weights\": {\n",
            "            \"Iqsyal\": 0.588,\n",
            "            \"Bahar\": 0.195,\n",
            "            \"Daniel\": 0.105,\n",
            "            \"Kelvin\": 0.064,\n",
            "            \"Raihan\": 0.048\n",
            "        },\n",
            "        \"local_weights\": {\n",
            "            \"Iqsyal\": 0.588,\n",
            "            \"Bahar\": 0.195,\n",
            "            \"Daniel\": 0.105,\n",
            "            \"Kelvin\": 0.064,\n",
            "            \"Raihan\": 0.048\n",
            "        },\n",
            "        \"consistency_ratio\": 0.142,\n",
            "        \"random_index\": \"Donegan & Dodd\",\n",
            "        \"count\": 5,\n",
            "        \"names\": [\n",
            "            \"Daniel\",\n",
            "            \"Iqsyal\",\n",
            "            \"Bahar\",\n",
            "            \"Raihan\",\n",
            "            \"Kelvin\"\n",
            "        ]\n",
            "    },\n",
            "    \"children\": null,\n",
            "    \"comparisons\": {\n",
            "        \"count\": 10,\n",
            "        \"input\": {\n",
            "            \"Daniel, Iqsyal\": 0.1111111111111111,\n",
            "            \"Daniel, Bahar\": 0.3333333333333333,\n",
            "            \"Daniel, Raihan\": 2,\n",
            "            \"Daniel, Kelvin\": 4,\n",
            "            \"Iqsyal, Bahar\": 5,\n",
            "            \"Iqsyal, Raihan\": 7,\n",
            "            \"Iqsyal, Kelvin\": 7,\n",
            "            \"Bahar, Raihan\": 3,\n",
            "            \"Bahar, Kelvin\": 5,\n",
            "            \"Raihan, Kelvin\": 0.3333333333333333\n",
            "        },\n",
            "        \"computed\": null\n",
            "    }\n",
            "}\n"
          ]
        }
      ]
    }
  ]
}