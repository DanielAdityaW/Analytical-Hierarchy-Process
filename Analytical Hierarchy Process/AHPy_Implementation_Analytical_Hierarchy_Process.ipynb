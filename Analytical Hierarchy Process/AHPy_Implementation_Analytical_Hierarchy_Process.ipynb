{
  "nbformat": 4,
  "nbformat_minor": 0,
  "metadata": {
    "colab": {
      "name": "AHPy Implementation - Analytical Hierarchy Process",
      "provenance": []
    },
    "kernelspec": {
      "name": "python3",
      "display_name": "Python 3"
    },
    "language_info": {
      "name": "python"
    }
  },
  "cells": [
    {
      "cell_type": "code",
      "metadata": {
        "id": "AoiREnQWdg3I",
        "colab": {
          "base_uri": "https://localhost:8080/"
        },
        "outputId": "01d40c19-a54e-44ce-ee52-d4c5cb67faba"
      },
      "source": [
        "!pip install ahpy\n",
        "import ahpy as ahpy"
      ],
      "execution_count": null,
      "outputs": [
        {
          "output_type": "stream",
          "name": "stdout",
          "text": [
            "Collecting ahpy\n",
            "  Downloading ahpy-2.0-py3-none-any.whl (21 kB)\n",
            "Requirement already satisfied: scipy in /usr/local/lib/python3.7/dist-packages (from ahpy) (1.4.1)\n",
            "Requirement already satisfied: numpy in /usr/local/lib/python3.7/dist-packages (from ahpy) (1.19.5)\n",
            "Installing collected packages: ahpy\n",
            "Successfully installed ahpy-2.0\n"
          ]
        }
      ]
    },
    {
      "cell_type": "code",
      "metadata": {
        "colab": {
          "base_uri": "https://localhost:8080/"
        },
        "id": "inperrQ6ueEX",
        "outputId": "abddec84-cba9-4e91-9021-0de637e20265"
      },
      "source": [
        "perbandingan_kriteria = {('K1','K2'):5,('K1','K3'):3,('K1','K4'):4,('K1','K5'):7,\n",
        "                         ('K2','K3'):1/5,('K2','K4'):7,('K2','K5'):5,\n",
        "                         ('K3','K4'):1/7,('K3','K5'):5,\n",
        "                         ('K4','K5'):1/3}\n",
        "print(perbandingan_kriteria)"
      ],
      "execution_count": null,
      "outputs": [
        {
          "output_type": "stream",
          "name": "stdout",
          "text": [
            "{('K1', 'K2'): 5, ('K1', 'K3'): 3, ('K1', 'K4'): 4, ('K1', 'K5'): 7, ('K2', 'K3'): 0.2, ('K2', 'K4'): 7, ('K2', 'K5'): 5, ('K3', 'K4'): 0.14285714285714285, ('K3', 'K5'): 5, ('K4', 'K5'): 0.3333333333333333}\n"
          ]
        }
      ]
    },
    {
      "cell_type": "code",
      "metadata": {
        "id": "FVgXfhbYwWSR"
      },
      "source": [
        "perbandingan_K1 = {('Daniel', 'Iqsyal'): 1/9, ('Daniel', 'Bahar'): 1.3, \n",
        "                   ('Daniel', 'Raihan'): 2, ('Daniel', 'Kelvin'): 4, \n",
        "                   ('Iqsyal', 'Bahar'): 5, ('Iqsyal', 'Raihan'): 7, \n",
        "                   ('Iqsyal', 'Kelvin'): 7, ('Bahar', 'Raihan'): 3, \n",
        "                   ('Bahar', 'Kelvin'): 5, ('Raihan', 'Kelvin'): 1/3}"
      ],
      "execution_count": null,
      "outputs": []
    },
    {
      "cell_type": "code",
      "metadata": {
        "id": "6Ns8c-mExi8w"
      },
      "source": [
        "perbandingan_K2 = {('Daniel', 'Iqsyal'): 5, ('Daniel', 'Bahar'): 1/5, \n",
        "                   ('Daniel', 'Raihan'): 3, ('Daniel', 'Kelvin'): 5, \n",
        "                   ('Iqsyal', 'Bahar'): 7, ('Iqsyal', 'Raihan'): 1/5, \n",
        "                   ('Iqsyal', 'Kelvin'): 1/2, ('Bahar', 'Raihan'): 5, \n",
        "                   ('Bahar', 'Kelvin'): 7, ('Raihan', 'Kelvin'): 3}"
      ],
      "execution_count": null,
      "outputs": []
    },
    {
      "cell_type": "code",
      "metadata": {
        "id": "_gGqUaM3yYoR"
      },
      "source": [
        "perbandingan_K3 = {('Daniel', 'Iqsyal'): 1/5, ('Daniel', 'Bahar'): 1/9, \n",
        "                   ('Daniel', 'Raihan'): 3, ('Daniel', 'Kelvin'): 5, \n",
        "                   ('Iqsyal', 'Bahar'): 1/7, ('Iqsyal', 'Raihan'): 5, \n",
        "                   ('Iqsyal', 'Kelvin'): 3, ('Bahar', 'Raihan'): 7, \n",
        "                   ('Bahar', 'Kelvin'): 9, ('Raihan', 'Kelvin'): 3}"
      ],
      "execution_count": null,
      "outputs": []
    },
    {
      "cell_type": "code",
      "metadata": {
        "id": "hfRKDK_xytwR"
      },
      "source": [
        "perbandingan_K4 = {('Daniel', 'Iqsyal'): 3, ('Daniel', 'Bahar'): 1/5, \n",
        "                   ('Daniel', 'Raihan'): 3, ('Daniel', 'Kelvin'): 7, \n",
        "                   ('Iqsyal', 'Bahar'):1/3, ('Iqsyal', 'Raihan'): 5, \n",
        "                   ('Iqsyal', 'Kelvin'): 3, ('Bahar', 'Raihan'): 9, \n",
        "                   ('Bahar', 'Kelvin'): 5, ('Raihan', 'Kelvin'): 1/5}"
      ],
      "execution_count": null,
      "outputs": []
    },
    {
      "cell_type": "code",
      "metadata": {
        "id": "oZZNij3Nznoj"
      },
      "source": [
        "perbandingan_K5 = {('Daniel', 'Iqsyal'): 1/3, ('Daniel', 'Bahar'): 3, \n",
        "                   ('Daniel', 'Raihan'): 3, ('Daniel', 'Kelvin'): 1/7, \n",
        "                   ('Iqsyal', 'Bahar'): 5, ('Iqsyal', 'Raihan'): 3, \n",
        "                   ('Iqsyal', 'Kelvin'): 1/4 ,('Bahar', 'Raihan'):1/2, \n",
        "                   ('Bahar', 'Kelvin'):1/7, ('Raihan', 'Kelvin'): 1/2}"
      ],
      "execution_count": null,
      "outputs": []
    },
    {
      "cell_type": "code",
      "metadata": {
        "id": "T_u99_3k0AES"
      },
      "source": [
        "Bagian_yang_terdampak = ahpy.Compare('K1', perbandingan_K1, precision=3, random_index='dd')\n",
        "Jumlah_anggota_keluarga = ahpy.Compare('K2', perbandingan_K2, precision=3, random_index='dd')\n",
        "Domisili = ahpy.Compare('K3', perbandingan_K3, precision=3, random_index='dd')\n",
        "Status_Rumah = ahpy.Compare('K4', perbandingan_K4, precision=3, random_index='dd')\n",
        "Hasil_pendapatan_perbulan = ahpy.Compare('K5', perbandingan_K5, precision=3, random_index='dd')\n",
        "Kriteria = ahpy.Compare('Kriteria', perbandingan_kriteria, precision=3, random_index='dd')"
      ],
      "execution_count": null,
      "outputs": []
    },
    {
      "cell_type": "code",
      "metadata": {
        "colab": {
          "base_uri": "https://localhost:8080/"
        },
        "id": "_upo23zt1Beh",
        "outputId": "3f02fac6-1c5c-4259-f9ea-041449e28ee6"
      },
      "source": [
        "Kriteria.add_children([Bagian_yang_terdampak, \n",
        "                       Jumlah_anggota_keluarga, \n",
        "                       Domisili, \n",
        "                       Status_Rumah,\n",
        "                       Hasil_pendapatan_perbulan])\n",
        "print(Kriteria.target_weights)"
      ],
      "execution_count": null,
      "outputs": [
        {
          "output_type": "stream",
          "name": "stdout",
          "text": [
            "{'Iqsyal': 0.337, 'Bahar': 0.321, 'Daniel': 0.168, 'Kelvin': 0.097, 'Raihan': 0.078}\n"
          ]
        }
      ]
    },
    {
      "cell_type": "code",
      "metadata": {
        "colab": {
          "base_uri": "https://localhost:8080/"
        },
        "id": "IWEFCkeA1f9y",
        "outputId": "7bbe24d1-0670-4dbe-bc1c-24645d0d5f7c"
      },
      "source": [
        "print(Kriteria.local_weights)"
      ],
      "execution_count": null,
      "outputs": [
        {
          "output_type": "stream",
          "name": "stdout",
          "text": [
            "{'K1': 0.345, 'K2': 0.209, 'K3': 0.19, 'K4': 0.177, 'K5': 0.079}\n"
          ]
        }
      ]
    },
    {
      "cell_type": "code",
      "metadata": {
        "colab": {
          "base_uri": "https://localhost:8080/"
        },
        "id": "21rBcbsd2LOK",
        "outputId": "15ad7fbf-b439-461d-cee6-8eeca3d21556"
      },
      "source": [
        "print(Bagian_yang_terdampak.local_weights)"
      ],
      "execution_count": null,
      "outputs": [
        {
          "output_type": "stream",
          "name": "stdout",
          "text": [
            "{'Iqsyal': 0.601, 'Bahar': 0.151, 'Daniel': 0.135, 'Kelvin': 0.065, 'Raihan': 0.049}\n"
          ]
        }
      ]
    },
    {
      "cell_type": "code",
      "metadata": {
        "colab": {
          "base_uri": "https://localhost:8080/"
        },
        "id": "hCpxH6hj2Wlj",
        "outputId": "681671bc-390b-4e70-97bf-a13d0e75cfcb"
      },
      "source": [
        "print(Bagian_yang_terdampak.consistency_ratio)"
      ],
      "execution_count": null,
      "outputs": [
        {
          "output_type": "stream",
          "name": "stdout",
          "text": [
            "0.141\n"
          ]
        }
      ]
    },
    {
      "cell_type": "code",
      "metadata": {
        "colab": {
          "base_uri": "https://localhost:8080/"
        },
        "id": "yPV_N8ip5rs4",
        "outputId": "ddf72725-bc43-41c0-8b35-2d446a1ecbcf"
      },
      "source": [
        "report = Kriteria.report(show=True, verbose=True)"
      ],
      "execution_count": null,
      "outputs": [
        {
          "output_type": "stream",
          "name": "stdout",
          "text": [
            "{\n",
            "    \"name\": \"Kriteria\",\n",
            "    \"global_weight\": 1.0,\n",
            "    \"local_weight\": 1.0,\n",
            "    \"target_weights\": {\n",
            "        \"Iqsyal\": 0.337,\n",
            "        \"Bahar\": 0.321,\n",
            "        \"Daniel\": 0.168,\n",
            "        \"Kelvin\": 0.097,\n",
            "        \"Raihan\": 0.078\n",
            "    },\n",
            "    \"elements\": {\n",
            "        \"global_weights\": {\n",
            "            \"K1\": 0.345,\n",
            "            \"K2\": 0.209,\n",
            "            \"K3\": 0.19,\n",
            "            \"K4\": 0.177,\n",
            "            \"K5\": 0.079\n",
            "        },\n",
            "        \"local_weights\": {\n",
            "            \"K1\": 0.345,\n",
            "            \"K2\": 0.209,\n",
            "            \"K3\": 0.19,\n",
            "            \"K4\": 0.177,\n",
            "            \"K5\": 0.079\n",
            "        },\n",
            "        \"consistency_ratio\": 1.021,\n",
            "        \"random_index\": \"Donegan & Dodd\",\n",
            "        \"count\": 5,\n",
            "        \"names\": [\n",
            "            \"K1\",\n",
            "            \"K2\",\n",
            "            \"K3\",\n",
            "            \"K4\",\n",
            "            \"K5\"\n",
            "        ]\n",
            "    },\n",
            "    \"children\": {\n",
            "        \"count\": 5,\n",
            "        \"names\": [\n",
            "            \"K1\",\n",
            "            \"K2\",\n",
            "            \"K3\",\n",
            "            \"K4\",\n",
            "            \"K5\"\n",
            "        ]\n",
            "    },\n",
            "    \"comparisons\": {\n",
            "        \"count\": 10,\n",
            "        \"input\": {\n",
            "            \"K1, K2\": 5,\n",
            "            \"K1, K3\": 3,\n",
            "            \"K1, K4\": 4,\n",
            "            \"K1, K5\": 7,\n",
            "            \"K2, K3\": 0.2,\n",
            "            \"K2, K4\": 7,\n",
            "            \"K2, K5\": 5,\n",
            "            \"K3, K4\": 0.14285714285714285,\n",
            "            \"K3, K5\": 5,\n",
            "            \"K4, K5\": 0.3333333333333333\n",
            "        },\n",
            "        \"computed\": null\n",
            "    }\n",
            "}\n"
          ]
        }
      ]
    },
    {
      "cell_type": "code",
      "metadata": {
        "id": "aE5yNrzY5s30"
      },
      "source": [
        ""
      ],
      "execution_count": null,
      "outputs": []
    }
  ]
}